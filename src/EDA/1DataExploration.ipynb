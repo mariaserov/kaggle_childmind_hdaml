{
 "cells": [
  {
   "cell_type": "code",
   "execution_count": 2,
   "metadata": {},
   "outputs": [
    {
     "data": {
      "text/plain": [
       "(3960, 82)"
      ]
     },
     "execution_count": 2,
     "metadata": {},
     "output_type": "execute_result"
    }
   ],
   "source": [
    "import pandas as pd\n",
    "import numpy as np\n",
    "\n",
    "df = pd.read_csv(\"data/train.csv\")\n",
    "\n",
    "df.shape"
   ]
  },
  {
   "cell_type": "code",
   "execution_count": 3,
   "metadata": {},
   "outputs": [
    {
     "name": "stdout",
     "output_type": "stream",
     "text": [
      "PCIAT-Season\n",
      "PCIAT-PCIAT_01\n",
      "PCIAT-PCIAT_02\n",
      "PCIAT-PCIAT_03\n",
      "PCIAT-PCIAT_04\n",
      "PCIAT-PCIAT_05\n",
      "PCIAT-PCIAT_06\n",
      "PCIAT-PCIAT_07\n",
      "PCIAT-PCIAT_08\n",
      "PCIAT-PCIAT_09\n",
      "PCIAT-PCIAT_10\n",
      "PCIAT-PCIAT_11\n",
      "PCIAT-PCIAT_12\n",
      "PCIAT-PCIAT_13\n",
      "PCIAT-PCIAT_14\n",
      "PCIAT-PCIAT_15\n",
      "PCIAT-PCIAT_16\n",
      "PCIAT-PCIAT_17\n",
      "PCIAT-PCIAT_18\n",
      "PCIAT-PCIAT_19\n",
      "PCIAT-PCIAT_20\n",
      "PCIAT-PCIAT_Total\n",
      "sii\n"
     ]
    }
   ],
   "source": [
    "# for index, column in enumerate(df.columns):\n",
    "#     print(index, column)\n",
    "\n",
    "pciat = df.loc[:, \"PCIAT-Season\":\"PCIAT-PCIAT_Total\"]\n",
    "\n",
    "\n",
    "pciat[\"sii\"] = df[\"sii\"]\n",
    "\n",
    "\n",
    "pciat.shape\n",
    "for col in pciat.columns:\n",
    "    print(col)\n",
    "\n"
   ]
  },
  {
   "cell_type": "code",
   "execution_count": 4,
   "metadata": {},
   "outputs": [
    {
     "name": "stdout",
     "output_type": "stream",
     "text": [
      "Column PCIAT-Season: 1224\n",
      "Column PCIAT-PCIAT_01: 1227\n",
      "Column PCIAT-PCIAT_02: 1226\n",
      "Column PCIAT-PCIAT_03: 1229\n",
      "Column PCIAT-PCIAT_04: 1229\n",
      "Column PCIAT-PCIAT_05: 1231\n",
      "Column PCIAT-PCIAT_06: 1228\n",
      "Column PCIAT-PCIAT_07: 1231\n",
      "Column PCIAT-PCIAT_08: 1230\n",
      "Column PCIAT-PCIAT_09: 1230\n",
      "Column PCIAT-PCIAT_10: 1227\n",
      "Column PCIAT-PCIAT_11: 1226\n",
      "Column PCIAT-PCIAT_12: 1229\n",
      "Column PCIAT-PCIAT_13: 1231\n",
      "Column PCIAT-PCIAT_14: 1228\n",
      "Column PCIAT-PCIAT_15: 1230\n",
      "Column PCIAT-PCIAT_16: 1232\n",
      "Column PCIAT-PCIAT_17: 1235\n",
      "Column PCIAT-PCIAT_18: 1232\n",
      "Column PCIAT-PCIAT_19: 1230\n",
      "Column PCIAT-PCIAT_20: 1227\n",
      "Column PCIAT-PCIAT_Total: 1224\n",
      "Column sii: 1224\n"
     ]
    }
   ],
   "source": [
    "\n",
    "\n",
    "for col in pciat.columns:\n",
    "    na = pciat[col].isna().sum()\n",
    "    print(f\"Column {col}: {na}\")"
   ]
  },
  {
   "attachments": {},
   "cell_type": "markdown",
   "metadata": {},
   "source": [
    "In the block below I'm looking at missing values: how much are missing from all PCIAT, how much are missing in each PCIAT_X in addition to that, and what the distribution of those xtra missing values is"
   ]
  },
  {
   "cell_type": "code",
   "execution_count": 5,
   "metadata": {},
   "outputs": [
    {
     "name": "stdout",
     "output_type": "stream",
     "text": [
      "0     2671\n",
      "1       52\n",
      "2        9\n",
      "3        1\n",
      "5        1\n",
      "10       1\n",
      "20       1\n",
      "23    1224\n",
      "Name: count, dtype: int64\n",
      "PCIAT-Season: 0 missing values\n",
      "PCIAT-PCIAT_01: 3 missing values\n",
      "PCIAT-PCIAT_02: 2 missing values\n",
      "PCIAT-PCIAT_03: 5 missing values\n",
      "PCIAT-PCIAT_04: 5 missing values\n",
      "PCIAT-PCIAT_05: 7 missing values\n",
      "PCIAT-PCIAT_06: 4 missing values\n",
      "PCIAT-PCIAT_07: 7 missing values\n",
      "PCIAT-PCIAT_08: 6 missing values\n",
      "PCIAT-PCIAT_09: 6 missing values\n",
      "PCIAT-PCIAT_10: 3 missing values\n",
      "PCIAT-PCIAT_11: 2 missing values\n",
      "PCIAT-PCIAT_12: 5 missing values\n",
      "PCIAT-PCIAT_13: 7 missing values\n",
      "PCIAT-PCIAT_14: 4 missing values\n",
      "PCIAT-PCIAT_15: 6 missing values\n",
      "PCIAT-PCIAT_16: 8 missing values\n",
      "PCIAT-PCIAT_17: 11 missing values\n",
      "PCIAT-PCIAT_18: 8 missing values\n",
      "PCIAT-PCIAT_19: 6 missing values\n",
      "PCIAT-PCIAT_20: 3 missing values\n",
      "PCIAT-PCIAT_Total: 0 missing values\n",
      "sii: 0 missing values\n",
      "2 11\n"
     ]
    },
    {
     "data": {
      "text/plain": [
       "Text(0, 0.5, 'Number of Columns')"
      ]
     },
     "execution_count": 5,
     "metadata": {},
     "output_type": "execute_result"
    },
    {
     "data": {
      "image/png": "[encoded data removed]",
      "text/plain": [
       "<Figure size 640x480 with 1 Axes>"
      ]
     },
     "metadata": {},
     "output_type": "display_data"
    }
   ],
   "source": [
    "# Checking how much overlap of NA between observations by counting number of columns with number of missing values\n",
    "\n",
    "# it seems apart from rogue NAs here and there, there are 1224 missing observations \n",
    "\n",
    "import matplotlib.pyplot as plt\n",
    "\n",
    "missing_per_row = pciat.isna().sum(axis=1)\n",
    "missing_value_dist = missing_per_row.value_counts().sort_index()\n",
    "\n",
    "print(missing_value_dist)\n",
    "\n",
    "na_vals = []\n",
    "for col in pciat.columns:\n",
    "    count = (pciat[col].isna().sum())-1224\n",
    "    if count != 0:\n",
    "        na_vals.append(count)\n",
    "    else:\n",
    "        pass\n",
    "    print(f\"{col}: {count} missing values\" )\n",
    "\n",
    "# print(missing_value_dist) \n",
    "print(min(na_vals), max(na_vals))\n",
    "\n",
    "\n",
    "plt.hist(na_vals, edgecolor='black')\n",
    "plt.xlabel(\"Number of NAs\", fontsize=16)\n",
    "plt.ylabel(\"Number of Columns\", fontsize=16)\n",
    "\n"
   ]
  },
  {
   "cell_type": "code",
   "execution_count": 27,
   "metadata": {},
   "outputs": [
    {
     "data": {
      "text/plain": [
       "<bound method NDFrame.head of       PCIAT-Season  PCIAT-PCIAT_01  PCIAT-PCIAT_02  PCIAT-PCIAT_03  \\\n",
       "0              NaN             5.0             4.0             4.0   \n",
       "1              NaN             0.0             0.0             0.0   \n",
       "2              NaN             5.0             2.0             2.0   \n",
       "3              NaN             4.0             2.0             4.0   \n",
       "4              NaN             NaN             NaN             NaN   \n",
       "...            ...             ...             ...             ...   \n",
       "3955           NaN             3.0             3.0             3.0   \n",
       "3956           NaN             NaN             NaN             NaN   \n",
       "3957           NaN             5.0             5.0             3.0   \n",
       "3958           NaN             2.0             1.0             1.0   \n",
       "3959           NaN             NaN             NaN             NaN   \n",
       "\n",
       "      PCIAT-PCIAT_04  PCIAT-PCIAT_05  PCIAT-PCIAT_06  PCIAT-PCIAT_07  \\\n",
       "0                0.0             4.0             0.0             0.0   \n",
       "1                0.0             0.0             0.0             0.0   \n",
       "2                1.0             2.0             1.0             1.0   \n",
       "3                0.0             5.0             1.0             0.0   \n",
       "4                NaN             NaN             NaN             NaN   \n",
       "...              ...             ...             ...             ...   \n",
       "3955             2.0             3.0             2.0             2.0   \n",
       "3956             NaN             NaN             NaN             NaN   \n",
       "3957             0.0             5.0             1.0             0.0   \n",
       "3958             1.0             0.0             0.0             0.0   \n",
       "3959             NaN             NaN             NaN             NaN   \n",
       "\n",
       "      PCIAT-PCIAT_08  PCIAT-PCIAT_09  ...  PCIAT-PCIAT_14  PCIAT-PCIAT_15  \\\n",
       "0                4.0             0.0  ...             4.0             4.0   \n",
       "1                0.0             0.0  ...             0.0             0.0   \n",
       "2                2.0             1.0  ...             1.0             1.0   \n",
       "3                3.0             2.0  ...             0.0             0.0   \n",
       "4                NaN             NaN  ...             NaN             NaN   \n",
       "...              ...             ...  ...             ...             ...   \n",
       "3955             2.0             2.0  ...             0.0             1.0   \n",
       "3956             NaN             NaN  ...             NaN             NaN   \n",
       "3957             2.0             0.0  ...             3.0             0.0   \n",
       "3958             1.0             1.0  ...             1.0             2.0   \n",
       "3959             NaN             NaN  ...             NaN             NaN   \n",
       "\n",
       "      PCIAT-PCIAT_16  PCIAT-PCIAT_17  PCIAT-PCIAT_18  PCIAT-PCIAT_19  \\\n",
       "0                4.0             4.0             4.0             2.0   \n",
       "1                0.0             0.0             0.0             0.0   \n",
       "2                0.0             2.0             2.0             1.0   \n",
       "3                3.0             4.0             3.0             4.0   \n",
       "4                NaN             NaN             NaN             NaN   \n",
       "...              ...             ...             ...             ...   \n",
       "3955             0.0             2.0             1.0             1.0   \n",
       "3956             NaN             NaN             NaN             NaN   \n",
       "3957             0.0             1.0             1.0             0.0   \n",
       "3958             1.0             1.0             1.0             1.0   \n",
       "3959             NaN             NaN             NaN             NaN   \n",
       "\n",
       "      PCIAT-PCIAT_20  PCIAT-PCIAT_Total  sii        id  \n",
       "0                4.0               55.0  2.0       NaN  \n",
       "1                0.0                0.0  0.0       NaN  \n",
       "2                1.0               28.0  0.0  105258.0  \n",
       "3                1.0               44.0  1.0       NaN  \n",
       "4                NaN                NaN  NaN       NaN  \n",
       "...              ...                ...  ...       ...  \n",
       "3955             0.0               32.0  1.0       NaN  \n",
       "3956             NaN                NaN  NaN       NaN  \n",
       "3957             1.0               31.0  1.0       NaN  \n",
       "3958             1.0               19.0  0.0       NaN  \n",
       "3959             NaN                NaN  NaN       NaN  \n",
       "\n",
       "[3960 rows x 24 columns]>"
      ]
     },
     "execution_count": 27,
     "metadata": {},
     "output_type": "execute_result"
    }
   ],
   "source": [
    "pciat.head"
   ]
  },
  {
   "cell_type": "code",
   "execution_count": 29,
   "metadata": {},
   "outputs": [
    {
     "data": {
      "image/png": "[encoded data removed]",
      "text/plain": [
       "<Figure size 1500x500 with 24 Axes>"
      ]
     },
     "metadata": {},
     "output_type": "display_data"
    }
   ],
   "source": [
    "for column in pciat.columns[1:]:\n",
    "    pciat[column] = pd.to_numeric(pciat[column], errors='coerce')\n",
    "    \n",
    "fig, axes = plt.subplots(1, len(pciat.columns), figsize=(15, 5), sharey=True)\n",
    "for i, column in enumerate(pciat.columns[1:]):\n",
    "    axes[i].hist(df[column])\n"
   ]
  },
  {
   "cell_type": "code",
   "execution_count": 11,
   "metadata": {},
   "outputs": [
    {
     "data": {
      "text/plain": [
       "Text(0, 0.5, 'n')"
      ]
     },
     "execution_count": 11,
     "metadata": {},
     "output_type": "execute_result"
    },
    {
     "data": {
      "image/png": "[encoded data removed]",
      "text/plain": [
       "<Figure size 640x480 with 1 Axes>"
      ]
     },
     "metadata": {},
     "output_type": "display_data"
    }
   ],
   "source": [
    "plt.hist(df[\"PCIAT-PCIAT_Total\"], edgecolor='black')\n",
    "plt.xlabel(\"PCIAT_Total\", fontsize=16)\n",
    "plt.ylabel(\"n\", fontsize=16)"
   ]
  },
  {
   "cell_type": "code",
   "execution_count": 6,
   "metadata": {},
   "outputs": [
    {
     "name": "stdout",
     "output_type": "stream",
     "text": [
      "sii 0.0: PCIAT range 0.0-30.0\n",
      "sii 1.0: PCIAT range 31.0-49.0\n",
      "sii 2.0: PCIAT range 50.0-79.0\n",
      "sii 3.0: PCIAT range 80.0-93.0\n"
     ]
    }
   ],
   "source": [
    "# From this can see that the PCIAT-PCIAT_Total range is 0-93 (plus nan)\n",
    "\n",
    "unique_total = np.sort(pciat[\"PCIAT-PCIAT_Total\"].unique())\n",
    "\n",
    "# Can see the range of each sii value by running the code below: \n",
    "\n",
    "sii_vals = [0.0, 1.0, 2.0, 3.0]\n",
    "\n",
    "for val in sii_vals:\n",
    "    pciat_vals = np.sort(pciat[pciat[\"sii\"]==val][\"PCIAT-PCIAT_Total\"].unique())\n",
    "    print(f\"sii {val}: PCIAT range {min(pciat_vals)}-{max(pciat_vals)}\")"
   ]
  },
  {
   "cell_type": "code",
   "execution_count": null,
   "metadata": {},
   "outputs": [],
   "source": []
  },
  {
   "attachments": {},
   "cell_type": "markdown",
   "metadata": {},
   "source": [
    "Back to the missing values: let's decide what to do with the missing ones. We saw above that, for some observations, we have a PCIAT_Total and hence a sii score even if the value is missing. I'd like to check how this is treated: is the total score just a sum of remaining values? In which case it biases it as artificially \"deflates\" values. These values could be removed if dealing with only Total / sii as target values; but kept otherwise if we use PCIAT"
   ]
  },
  {
   "cell_type": "code",
   "execution_count": 7,
   "metadata": {},
   "outputs": [
    {
     "data": {
      "text/plain": [
       "2736"
      ]
     },
     "execution_count": 7,
     "metadata": {},
     "output_type": "execute_result"
    }
   ],
   "source": [
    "#  First, let's get rid of obervations where all values are NAs - same as NA in sii\n",
    "pciat[\"id\"] = df[\"id\"]\n",
    "\n",
    "#  Get IDs where ALL values missing - also export as txt file! \n",
    "all_na_ids = pciat[pciat[\"sii\"].isna()][\"id\"]\n",
    "# all_na_ids.to_csv('all_na_ids.txt', index=False, header=False)\n",
    "\n",
    "# Make a new df where these \"total missing\" observations are filtered out\n",
    "\n",
    "pciat_cleaned = pciat[~pciat[\"id\"].isin(all_na_ids)]\n",
    "\n",
    "count = pciat_cleaned.loc[:, \"PCIAT-PCIAT_01\":\"PCIAT-PCIAT_20\"].sum(axis=1).astype(int) == pciat_cleaned[\"PCIAT-PCIAT_Total\"].astype(int)\n",
    "count.sum()\n",
    "\n"
   ]
  }
 ],
 "metadata": {
  "kernelspec": {
   "display_name": "base",
   "language": "python",
   "name": "python3"
  },
  "language_info": {
   "codemirror_mode": {
    "name": "ipython",
    "version": 3
   },
   "file_extension": ".py",
   "mimetype": "text/x-python",
   "name": "python",
   "nbconvert_exporter": "python",
   "pygments_lexer": "ipython3",
   "version": "3.12.4"
  },
  "orig_nbformat": 4
 },
 "nbformat": 4,
 "nbformat_minor": 2
}
